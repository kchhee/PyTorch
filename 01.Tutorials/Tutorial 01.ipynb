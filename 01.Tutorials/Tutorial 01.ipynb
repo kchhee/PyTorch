{
 "cells": [
  {
   "cell_type": "markdown",
   "metadata": {},
   "source": [
    "# The following code is an implementation of official PyTorch Tutorial. \n",
    "(see https://pytorch.org/tutorials/beginner/blitz/tensor_tutorial.html)\n",
    "\n",
    "For the purpose of learning PyTorch, I've added commenets and markdowns.\n",
    "\n",
    "If you want to install PyTorch, visit https://pytorch.org and check commands according to your environment.\n",
    "\n",
    "My environment is composed of conda / python3.6 / CUDA 9.0 / PyTorch 0.4.1"
   ]
  },
  {
   "cell_type": "code",
   "execution_count": 4,
   "metadata": {},
   "outputs": [],
   "source": [
    "#load pytorch.\n",
    "import torch\n"
   ]
  },
  {
   "cell_type": "markdown",
   "metadata": {},
   "source": [
    "The basic unit for PyTorch is called Tensor.\n",
    "It is similar to NumPy's ndarrays. Tensors can be processed for GPU accelerated computing."
   ]
  },
  {
   "cell_type": "code",
   "execution_count": null,
   "metadata": {},
   "outputs": [],
   "source": [
    "#torch.empty makes an uninitialized matrix of tensor\n",
    "x = torch.empty(5, 3)\n",
    "print(x)\n",
    "\n",
    "#complex matrices can be generated with an additional args (dim).\n",
    "y = torch.empty(5, 3, 2)\n",
    "print(y)\n",
    "\n",
    "z = torch.empty(5, 3, 2, 4)\n",
    "print(z)"
   ]
  },
  {
   "cell_type": "code",
   "execution_count": 12,
   "metadata": {},
   "outputs": [
    {
     "name": "stdout",
     "output_type": "stream",
     "text": [
      "tensor([[0.7408, 0.7228, 0.0717],\n",
      "        [0.4122, 0.3390, 0.7992],\n",
      "        [0.9049, 0.0691, 0.2008],\n",
      "        [0.4692, 0.9556, 0.7041],\n",
      "        [0.9409, 0.6206, 0.9505]])\n"
     ]
    }
   ],
   "source": [
    "#torch.rand randomly initializes a matrix\n",
    "x = torch.rand(5, 3)\n",
    "print(x)"
   ]
  },
  {
   "cell_type": "code",
   "execution_count": 17,
   "metadata": {},
   "outputs": [
    {
     "name": "stdout",
     "output_type": "stream",
     "text": [
      "tensor([[0., 0., 0.],\n",
      "        [0., 0., 0.],\n",
      "        [0., 0., 0.],\n",
      "        [0., 0., 0.],\n",
      "        [0., 0., 0.]])\n",
      "tensor([[0, 0, 0],\n",
      "        [0, 0, 0],\n",
      "        [0, 0, 0],\n",
      "        [0, 0, 0],\n",
      "        [0, 0, 0]])\n",
      "tensor([[0., 0., 0.],\n",
      "        [0., 0., 0.],\n",
      "        [0., 0., 0.],\n",
      "        [0., 0., 0.],\n",
      "        [0., 0., 0.]])\n"
     ]
    }
   ],
   "source": [
    "#torch.zeros fills a matrix with zeros\n",
    "x = torch.zeros(5, 3)\n",
    "print(x)\n",
    "\n",
    "#dtype = the desired data type of returned tensor\n",
    "x = torch.zeros(5, 3, dtype=torch.long)\n",
    "print(x)\n",
    "\n",
    "x = torch.zeros(5, 3, dtype=torch.float)\n",
    "print(x)"
   ]
  },
  {
   "cell_type": "code",
   "execution_count": 19,
   "metadata": {},
   "outputs": [
    {
     "name": "stdout",
     "output_type": "stream",
     "text": [
      "tensor([5.5000, 3.0000])\n",
      "tensor([3, 4, 5], dtype=torch.int32)\n"
     ]
    }
   ],
   "source": [
    "#we can make a tensor from data\n",
    "x = torch.tensor([5.5, 3])\n",
    "print(x)\n",
    "\n",
    "# or from numpy array\n",
    "import numpy as np\n",
    "\n",
    "x_np = np.array([3, 4, 5])\n",
    "x = torch.from_numpy(x_np)\n",
    "print(x)"
   ]
  },
  {
   "cell_type": "code",
   "execution_count": 21,
   "metadata": {},
   "outputs": [
    {
     "name": "stdout",
     "output_type": "stream",
     "text": [
      "tensor([[1., 1., 1.],\n",
      "        [1., 1., 1.],\n",
      "        [1., 1., 1.],\n",
      "        [1., 1., 1.],\n",
      "        [1., 1., 1.]], dtype=torch.float64)\n",
      "tensor([[-1.9339, -0.6285, -0.3859],\n",
      "        [-1.9890, -1.1318,  1.2591],\n",
      "        [ 0.3697, -0.5242,  0.6367],\n",
      "        [ 1.0896,  0.5683,  0.7747],\n",
      "        [ 0.0077, -0.1183,  0.2146]])\n"
     ]
    }
   ],
   "source": [
    "#it is possible to change existing tensors using new_ \n",
    "x = x.new_ones(5, 3, dtype=torch.double)\n",
    "print(x)\n",
    "\n",
    "x = torch.randn_like(x, dtype=torch.float)\n",
    "print(x)"
   ]
  },
  {
   "cell_type": "code",
   "execution_count": 22,
   "metadata": {},
   "outputs": [
    {
     "name": "stdout",
     "output_type": "stream",
     "text": [
      "torch.Size([5, 3])\n"
     ]
    }
   ],
   "source": [
    "#to get the size,\n",
    "print(x.size())"
   ]
  },
  {
   "cell_type": "markdown",
   "metadata": {},
   "source": [
    "There are syntaxes for operations dealing with tensors. "
   ]
  },
  {
   "cell_type": "code",
   "execution_count": 23,
   "metadata": {},
   "outputs": [
    {
     "name": "stdout",
     "output_type": "stream",
     "text": [
      "tensor([[-1.9105, -0.0249, -0.2131],\n",
      "        [-1.4715, -0.2333,  1.5515],\n",
      "        [ 1.3171, -0.0071,  1.3429],\n",
      "        [ 1.1760,  1.3355,  1.2097],\n",
      "        [ 0.9689,  0.7410,  1.1592]])\n"
     ]
    }
   ],
   "source": [
    "y = torch.rand(5, 3)\n",
    "print(x + y)"
   ]
  },
  {
   "cell_type": "code",
   "execution_count": 24,
   "metadata": {},
   "outputs": [
    {
     "name": "stdout",
     "output_type": "stream",
     "text": [
      "tensor([[-1.9105, -0.0249, -0.2131],\n",
      "        [-1.4715, -0.2333,  1.5515],\n",
      "        [ 1.3171, -0.0071,  1.3429],\n",
      "        [ 1.1760,  1.3355,  1.2097],\n",
      "        [ 0.9689,  0.7410,  1.1592]])\n"
     ]
    }
   ],
   "source": [
    "#an alternative way is\n",
    "print(torch.add(x, y))"
   ]
  },
  {
   "cell_type": "code",
   "execution_count": 25,
   "metadata": {},
   "outputs": [
    {
     "name": "stdout",
     "output_type": "stream",
     "text": [
      "tensor([[-1.9105, -0.0249, -0.2131],\n",
      "        [-1.4715, -0.2333,  1.5515],\n",
      "        [ 1.3171, -0.0071,  1.3429],\n",
      "        [ 1.1760,  1.3355,  1.2097],\n",
      "        [ 0.9689,  0.7410,  1.1592]])\n"
     ]
    }
   ],
   "source": [
    "result = torch.empty(5, 3)\n",
    "torch.add(x, y, out=result)\n",
    "print(result)"
   ]
  },
  {
   "cell_type": "code",
   "execution_count": 26,
   "metadata": {},
   "outputs": [
    {
     "name": "stdout",
     "output_type": "stream",
     "text": [
      "tensor([[-1.9105, -0.0249, -0.2131],\n",
      "        [-1.4715, -0.2333,  1.5515],\n",
      "        [ 1.3171, -0.0071,  1.3429],\n",
      "        [ 1.1760,  1.3355,  1.2097],\n",
      "        [ 0.9689,  0.7410,  1.1592]])\n"
     ]
    }
   ],
   "source": [
    "#in-place version: it directly changes a tensor's data\n",
    "# putting _ indicates in-place methods\n",
    "y.add_(x)\n",
    "print(y)"
   ]
  },
  {
   "cell_type": "code",
   "execution_count": 28,
   "metadata": {},
   "outputs": [
    {
     "name": "stdout",
     "output_type": "stream",
     "text": [
      "tensor([-0.0249, -0.2333, -0.0071,  1.3355,  0.7410])\n"
     ]
    }
   ],
   "source": [
    "# if you are familiar with NumPy, you may find this useful\n",
    "print(y[:, 1])"
   ]
  },
  {
   "cell_type": "code",
   "execution_count": 30,
   "metadata": {},
   "outputs": [
    {
     "name": "stdout",
     "output_type": "stream",
     "text": [
      "torch.Size([4, 4]) torch.Size([16]) torch.Size([16, 1]) torch.Size([2, 8])\n"
     ]
    }
   ],
   "source": [
    "#we can change shape(or size) of tensor\n",
    "x = torch.randn(4, 4)\n",
    "\n",
    "y = x.view(16) \n",
    "y1 = x.view(16, 1) # note that these two are different!\n",
    "\n",
    "z = x.view(-1, 8) # -1 is inferred from other dim. in this case, 2\n",
    "\n",
    "print(x.size(), y.size(), y1.size(), z.size())"
   ]
  },
  {
   "cell_type": "code",
   "execution_count": 31,
   "metadata": {},
   "outputs": [
    {
     "name": "stdout",
     "output_type": "stream",
     "text": [
      "tensor([0.1468])\n",
      "0.146800234913826\n"
     ]
    }
   ],
   "source": [
    "#in order to retrieve data, use .item()\n",
    "x = torch.randn(1)\n",
    "print(x)\n",
    "print(x.item())"
   ]
  },
  {
   "cell_type": "code",
   "execution_count": null,
   "metadata": {},
   "outputs": [],
   "source": []
  }
 ],
 "metadata": {
  "kernelspec": {
   "display_name": "Python 3",
   "language": "python",
   "name": "python3"
  },
  "language_info": {
   "codemirror_mode": {
    "name": "ipython",
    "version": 3
   },
   "file_extension": ".py",
   "mimetype": "text/x-python",
   "name": "python",
   "nbconvert_exporter": "python",
   "pygments_lexer": "ipython3",
   "version": "3.6.6"
  }
 },
 "nbformat": 4,
 "nbformat_minor": 2
}
